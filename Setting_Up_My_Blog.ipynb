{
  "nbformat": 4,
  "nbformat_minor": 0,
  "metadata": {
    "colab": {
      "name": "Setting Up My Blog.ipynb",
      "provenance": [],
      "collapsed_sections": [],
      "authorship_tag": "ABX9TyMf9MAh1Q6vqWfXpCnA76vo",
      "include_colab_link": true
    },
    "kernelspec": {
      "name": "python3",
      "display_name": "Python 3"
    }
  },
  "cells": [
    {
      "cell_type": "markdown",
      "metadata": {
        "id": "view-in-github",
        "colab_type": "text"
      },
      "source": [
        "<a href=\"https://colab.research.google.com/github/michael-erasmus/Euler/blob/master/Setting_Up_My_Blog.ipynb\" target=\"_parent\"><img src=\"https://colab.research.google.com/assets/colab-badge.svg\" alt=\"Open In Colab\"/></a>"
      ]
    },
    {
      "cell_type": "markdown",
      "metadata": {
        "id": "3LAPUOXiJLel",
        "colab_type": "text"
      },
      "source": [
        "Add a blurb about how we got here, from https://www.fast.ai/2020/01/16/fast_template/ "
      ]
    },
    {
      "cell_type": "code",
      "metadata": {
        "id": "FogXJu57IAgg",
        "colab_type": "code",
        "colab": {
          "base_uri": "https://localhost:8080/",
          "height": 121
        },
        "outputId": "81a3e6ea-be8b-4e75-b552-2fc7dd121fc8"
      },
      "source": [
        "!git clone https://github.com/michael-erasmus/modelxy"
      ],
      "execution_count": 1,
      "outputs": [
        {
          "output_type": "stream",
          "text": [
            "Cloning into 'modelxy'...\n",
            "remote: Enumerating objects: 30, done.\u001b[K\n",
            "remote: Counting objects: 100% (30/30), done.\u001b[K\n",
            "remote: Compressing objects: 100% (27/27), done.\u001b[K\n",
            "remote: Total 30 (delta 5), reused 0 (delta 0), pack-reused 0\u001b[K\n",
            "Unpacking objects: 100% (30/30), done.\n"
          ],
          "name": "stdout"
        }
      ]
    },
    {
      "cell_type": "code",
      "metadata": {
        "id": "aNcnuc9yNwRK",
        "colab_type": "code",
        "colab": {
          "base_uri": "https://localhost:8080/",
          "height": 52
        },
        "outputId": "2a34f707-7b3f-4f61-c805-ecaf7de2aa21"
      },
      "source": [
        "!ls modelxy/"
      ],
      "execution_count": 12,
      "outputs": [
        {
          "output_type": "stream",
          "text": [
            "404.html  assets       Gemfile\t     images\tindex.md  README.md\n",
            "about.md  _config.yml  Gemfile.lock  _includes\t_posts\n"
          ],
          "name": "stdout"
        }
      ]
    }
  ]
}